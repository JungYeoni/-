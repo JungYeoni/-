{
 "cells": [
  {
   "cell_type": "markdown",
   "id": "b181d4b7",
   "metadata": {},
   "source": [
    "# 자연어 처리 실습\n",
    "> https://seokii.tistory.com/28"
   ]
  },
  {
   "cell_type": "code",
   "execution_count": null,
   "id": "28f68d03",
   "metadata": {},
   "outputs": [],
   "source": []
  }
 ],
 "metadata": {
  "kernelspec": {
   "display_name": "Python 3 (ipykernel)",
   "language": "python",
   "name": "python3"
  }
 },
 "nbformat": 4,
 "nbformat_minor": 5
}
