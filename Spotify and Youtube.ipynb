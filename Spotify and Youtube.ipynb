{
 "cells": [
  {
   "cell_type": "markdown",
   "id": "155af278",
   "metadata": {},
   "source": [
    "# Spotify and Youtube\n",
    "> https://www.kaggle.com/datasets/salvatorerastelli/spotify-and-youtube/code"
   ]
  },
  {
   "cell_type": "code",
   "execution_count": 4,
   "id": "1b97c230",
   "metadata": {},
   "outputs": [],
   "source": [
    "import numpy as np\n",
    "import pandas as pd\n",
    "import matplotlib.pyplot as plt\n",
    "import seaborn as sns\n",
    "import plotly.express as px # 인터랙티브 시각화\n",
    "import os "
   ]
  },
  {
   "cell_type": "code",
   "execution_count": null,
   "id": "b89ff2c0",
   "metadata": {},
   "outputs": [],
   "source": []
  }
 ],
 "metadata": {
  "kernelspec": {
   "display_name": "Python 3 (ipykernel)",
   "language": "python",
   "name": "python3"
  }
 },
 "nbformat": 4,
 "nbformat_minor": 5
}
