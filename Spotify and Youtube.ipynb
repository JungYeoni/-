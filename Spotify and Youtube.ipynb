{
 "cells": [
  {
   "cell_type": "markdown",
   "id": "155af278",
   "metadata": {},
   "source": [
    "# Spotify and Youtube\n",
    "> https://www.kaggle.com/datasets/salvatorerastelli/spotify-and-youtube/code"
   ]
  },
  {
   "cell_type": "code",
   "execution_count": 3,
   "id": "18f746b8",
   "metadata": {},
   "outputs": [
    {
     "name": "stdout",
     "output_type": "stream",
     "text": [
      "Collecting plotly\n",
      "  Downloading plotly-6.2.0-py3-none-any.whl.metadata (8.5 kB)\n",
      "Collecting narwhals>=1.15.1 (from plotly)\n",
      "  Downloading narwhals-1.47.1-py3-none-any.whl.metadata (11 kB)\n",
      "Requirement already satisfied: packaging in c:\\users\\wooll\\anaconda3\\lib\\site-packages (from plotly) (24.2)\n",
      "Downloading plotly-6.2.0-py3-none-any.whl (9.6 MB)\n",
      "   ---------------------------------------- 0.0/9.6 MB ? eta -:--:--\n",
      "   ----------- ---------------------------- 2.9/9.6 MB 15.2 MB/s eta 0:00:01\n",
      "   ---------------- ----------------------- 3.9/9.6 MB 11.2 MB/s eta 0:00:01\n",
      "   --------------------- ------------------ 5.2/9.6 MB 8.4 MB/s eta 0:00:01\n",
      "   ----------------------------------- ---- 8.7/9.6 MB 10.5 MB/s eta 0:00:01\n",
      "   ---------------------------------------- 9.6/9.6 MB 10.9 MB/s eta 0:00:00\n",
      "Downloading narwhals-1.47.1-py3-none-any.whl (375 kB)\n",
      "Installing collected packages: narwhals, plotly\n",
      "Successfully installed narwhals-1.47.1 plotly-6.2.0\n"
     ]
    },
    {
     "name": "stderr",
     "output_type": "stream",
     "text": [
      "WARNING: Ignoring invalid distribution ~otebook (C:\\Users\\wooll\\anaconda3\\Lib\\site-packages)\n",
      "WARNING: Ignoring invalid distribution ~umpy (C:\\Users\\wooll\\anaconda3\\Lib\\site-packages)\n",
      "WARNING: Ignoring invalid distribution ~otebook (C:\\Users\\wooll\\anaconda3\\Lib\\site-packages)\n",
      "WARNING: Ignoring invalid distribution ~umpy (C:\\Users\\wooll\\anaconda3\\Lib\\site-packages)\n",
      "WARNING: Ignoring invalid distribution ~otebook (C:\\Users\\wooll\\anaconda3\\Lib\\site-packages)\n"
     ]
    }
   ],
   "source": [
    "!pip install plotly"
   ]
  },
  {
   "cell_type": "code",
   "execution_count": 4,
   "id": "1b97c230",
   "metadata": {},
   "outputs": [],
   "source": [
    "import numpy as np\n",
    "import pandas as pd\n",
    "import matplotlib.pyplot as plt\n",
    "import seaborn as sns\n",
    "import plotly.express as px # 인터랙티브 시각화\n",
    "import os "
   ]
  },
  {
   "cell_type": "code",
   "execution_count": null,
   "id": "b89ff2c0",
   "metadata": {},
   "outputs": [],
   "source": []
  }
 ],
 "metadata": {
  "kernelspec": {
   "display_name": "Python 3 (ipykernel)",
   "language": "python",
   "name": "python3"
  },
  "language_info": {
   "codemirror_mode": {
    "name": "ipython",
    "version": 3
   },
   "file_extension": ".py",
   "mimetype": "text/x-python",
   "name": "python",
   "nbconvert_exporter": "python",
   "pygments_lexer": "ipython3",
   "version": "3.11.9"
  }
 },
 "nbformat": 4,
 "nbformat_minor": 5
}
